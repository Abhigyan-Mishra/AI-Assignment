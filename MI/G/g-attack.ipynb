{
 "cells": [
  {
   "cell_type": "code",
   "execution_count": 15,
   "metadata": {},
   "outputs": [
    {
     "name": "stdout",
     "output_type": "stream",
     "text": [
      "Accuracy of Logistic Regression(Feature Picked): 0.9635036496350365\n"
     ]
    }
   ],
   "source": [
    "from sklearn.datasets import load_diabetes\n",
    "import pandas as pd\n",
    "import tensorflow as tf\n",
    "from sklearn.model_selection import train_test_split\n",
    "from sklearn.preprocessing import LabelEncoder\n",
    "from sklearn.linear_model import LogisticRegression\n",
    "from sklearn.metrics import accuracy_score\n",
    "\n",
    "\n",
    "s_model = \"../shadow_models/genetic/genetic_wiscon.h5\"\n",
    "df = pd.read_csv(\"wiscon.csv\")\n",
    "model = tf.keras.models.load_model(s_model)\n",
    "feature_set=['ClumpThickness', ' CellSize', ' CellShape', ' MarginalAdhesion',\n",
    "       ' EpithelialSize', ' BareNuclei', ' BlandChromatin', ' NormalNucleoli',\n",
    "       ' Mitoses']\n",
    "target='class'\n",
    "X_train, X_test, y_train, y_test = train_test_split(df[feature_set], df[target], test_size=0.2, random_state=7) \n",
    "\n",
    "\n",
    "\n",
    "lr = LogisticRegression(solver='liblinear', random_state=7)\n",
    "labelencoder_X_1 = LabelEncoder()\n",
    "y_test = labelencoder_X_1.fit_transform(y_test)\n",
    "y_train= labelencoder_X_1.fit_transform(y_train)\n",
    "lr.fit(X_train,y_train)    \n",
    "print(\"Accuracy of Logistic Regression(Feature Picked):\",accuracy_score(y_test, lr.predict(X_test)))\n",
    "# labelencoder_X_1 = LabelEncoder()\n",
    "# y_test = labelencoder_X_1.fit_transform(y_test)\n",
    "# y_train= labelencoder_X_1.fit_transform(y_train)\n",
    "\n",
    "# train_stat = model.evaluate(X_train, y_train, verbose=0)\n"
   ]
  },
  {
   "cell_type": "code",
   "execution_count": null,
   "metadata": {},
   "outputs": [],
   "source": []
  },
  {
   "cell_type": "code",
   "execution_count": null,
   "metadata": {},
   "outputs": [],
   "source": [
    "\n"
   ]
  },
  {
   "cell_type": "code",
   "execution_count": null,
   "metadata": {},
   "outputs": [],
   "source": []
  }
 ],
 "metadata": {
  "interpreter": {
   "hash": "3f56d2b0db9544d4fd1f1dde2f42a8ba7258cb74b60f02ac7f007b4b221c393b"
  },
  "kernelspec": {
   "display_name": "Python 3.8.2 ('myenv')",
   "language": "python",
   "name": "python3"
  },
  "language_info": {
   "codemirror_mode": {
    "name": "ipython",
    "version": 3
   },
   "file_extension": ".py",
   "mimetype": "text/x-python",
   "name": "python",
   "nbconvert_exporter": "python",
   "pygments_lexer": "ipython3",
   "version": "3.8.2"
  },
  "orig_nbformat": 4
 },
 "nbformat": 4,
 "nbformat_minor": 2
}
